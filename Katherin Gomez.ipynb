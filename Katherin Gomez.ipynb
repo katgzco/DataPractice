{
 "cells": [
  {
   "cell_type": "markdown",
   "id": "4c393aaa",
   "metadata": {},
   "source": [
    "#Prueba Data Engineer Junior - Habi.co"
   ]
  },
  {
   "cell_type": "markdown",
   "id": "f007b4ad",
   "metadata": {},
   "source": [
    "In this notebook you will find different Gremlin queries that allow the generation of a graphical graph that represents the relationships between different people."
   ]
  },
  {
   "cell_type": "markdown",
   "id": "79ba46f4",
   "metadata": {},
   "source": [
    "###Resources\n",
    "The following resources were used to work with this information:\n",
    "- An instance of Aws Neptune as a graph database.\n",
    "- An instance of AwsSageMaker containing the Jupyter Notebook generated from the Neptune workbanch.\n",
    "\n",
    "###Data\n",
    "\n",
    "For this exercise, an adjacency matrix was provided to represent the existing relationships between people.\n",
    "Data\n",
    "50 people - Vertices\n",
    "17 people generating a relationship\n",
    "165 relationships in total - Edges\n",
    "\n",
    "####Query language\n",
    "Gremlin query language\n",
    "\n",
    "####Data handling\n",
    "Jupyter Notebook is the interface that interacts with the database and allows data management and visualization.\n",
    "\n",
    "####Data loading\n",
    "The loading was performed on a magic cell from Queries made in the gremlin language.\n",
    "\n",
    "####Data visualization\n",
    "Was performed using the -p option provided by the gremlin command. "
   ]
  },
  {
   "cell_type": "markdown",
   "id": "7c8014f2",
   "metadata": {},
   "source": [
    "##Solution challenge"
   ]
  },
  {
   "cell_type": "markdown",
   "id": "f4762eec",
   "metadata": {},
   "source": [
    "####Make sure that the database is clean."
   ]
  },
  {
   "cell_type": "code",
   "execution_count": 2,
   "id": "22f8357e",
   "metadata": {},
   "outputs": [
    {
     "data": {
      "application/vnd.jupyter.widget-view+json": {
       "model_id": "e9c75be498f74a55878ebd0c89fc1e8c",
       "version_major": 2,
       "version_minor": 0
      },
      "text/plain": [
       "Tab(children=(Output(layout=Layout(max_height='600px', overflow='scroll', width='100%')), Output(layout=Layout…"
      ]
     },
     "metadata": {},
     "output_type": "display_data"
    }
   ],
   "source": [
    "%%gremlin\n",
    "// Clean Data base\n",
    "g.V().drop()"
   ]
  },
  {
   "cell_type": "markdown",
   "id": "ced985b0",
   "metadata": {},
   "source": [
    "###Data insertion"
   ]
  },
  {
   "cell_type": "markdown",
   "id": "6eef1b7a",
   "metadata": {},
   "source": [
    "#####Vertex insertion"
   ]
  },
  {
   "cell_type": "code",
   "execution_count": 3,
   "id": "4560cb19",
   "metadata": {},
   "outputs": [
    {
     "data": {
      "application/vnd.jupyter.widget-view+json": {
       "model_id": "d45b29a517d244719533eb8ead395b48",
       "version_major": 2,
       "version_minor": 0
      },
      "text/plain": [
       "Tab(children=(Output(layout=Layout(max_height='600px', overflow='scroll', width='100%')), Output(layout=Layout…"
      ]
     },
     "metadata": {},
     "output_type": "display_data"
    }
   ],
   "source": [
    "%%gremlin\n",
    "\n",
    "g.addV('Person').\n",
    "\tproperty(id,\"1\").\n",
    "    property(\"name\",\"Helena Durán Crane\").\n",
    "\n",
    "addV('Person').\n",
    "\tproperty(id,\"2\").\n",
    "    property(\"name\",\"Jorge Iván Palacio\").\n",
    "    \n",
    "addV('Person').\n",
    "\tproperty(id,\"3\").\n",
    "    property(\"name\",\"Rosa Peña\").\n",
    "\n",
    "addV('Person').\n",
    "\tproperty(id,\"4\").\n",
    "    property(\"name\",\"Viviana Tacha\").\n",
    "\n",
    "addV('Person').\n",
    "\tproperty(id,\"5\").\n",
    "    property(\"name\",\"Carolina Gómez\").\n",
    "\n",
    "addV('Person').\n",
    "\tproperty(id,\"6\").\n",
    "    property(\"name\",\"Viviana González\").\n",
    "\n",
    "addV('Person').\n",
    "\tproperty(id,\"7\").\n",
    "    property(\"name\",\"Carolina Rincón\").\n",
    "\n",
    "addV(\"Person\").\n",
    "\tproperty(id,\"8\").\n",
    "    property(\"name\",\"Paola Cárdenas\").\n",
    "\n",
    "addV(\"Person\").\n",
    "\tproperty(id,\"9\").\n",
    "    property(\"name\",\"Diego Melo\").\n",
    "\n",
    "addV(\"Person\").\n",
    "\tproperty(id,\"10\").\n",
    "    property(\"name\",\"Ximena González\").\n",
    "\n",
    "addV(\"Person\").\n",
    "\tproperty(id,\"11\").\n",
    "    property(\"name\",\"Johana Rocha\").\n",
    "\n",
    "addV(\"Person\").\n",
    "\tproperty(id,\"12\").\n",
    "    property(\"name\",\"Andrea Torres\").\n",
    "\n",
    "addV(\"Person\").\n",
    "\tproperty(id,\"13\").\n",
    "    property(\"name\",\"Felipe Clavijo Ospina\").\n",
    "\n",
    "addV(\"Person\").\n",
    "\tproperty(id,\"14\").\n",
    "    property(\"name\",\"Alexander Rodríguez Mena\").\n",
    "\n",
    "addV(\"Person\").\n",
    "\tproperty(id,\"15\").\n",
    "    property(\"name\",\"Valerio Andrade Mosquera\").\n",
    "\n",
    "addV(\"Person\").\n",
    "\tproperty(id,\"16\").\n",
    "    property(\"name\",\"Padre Albeiro Parra\").\n",
    "\n",
    "addV(\"Person\").\n",
    "\tproperty(id,\"17\").\n",
    "    property(\"name\",\"Noency Mosquera Martínez\").\n",
    "\n",
    "addV(\"Person\").\n",
    "\tproperty(id,\"18\").\n",
    "    property(\"name\",\"Padre Chepe\").\n",
    "\n",
    "addV(\"Person\").\n",
    "\tproperty(id,\"19\").\n",
    "    property(\"name\",\"Julio Ferro\").\n",
    "\n",
    "addV(\"Person\").\n",
    "\tproperty(id,\"20\").\n",
    "    property(\"name\",\"Carlos Andrés Mesa\").\n",
    "\n",
    "addV(\"Person\").\n",
    "\tproperty(id,\"21\").\n",
    "    property(\"name\",\"Javier Maldonado\").\n",
    "\n",
    "addV(\"Person\").\n",
    "\tproperty(id,\"22\").\n",
    "    property(\"name\",\"Ingris Asprilla\").\n",
    "\n",
    "addV(\"Person\").\n",
    "\tproperty(id,\"23\").\n",
    "    property(\"name\",\"Nixon Chamorro\").\n",
    "\n",
    "addV(\"Person\").\n",
    "\tproperty(id,\"24\").\n",
    "    property(\"name\",\"Andres Gómez Rey\").\n",
    "\n",
    "addV(\"Person\").\n",
    "\tproperty(id,\"25\").\n",
    "    property(\"name\",\"Natalia Castro Niño\").\n",
    "\n",
    "addV(\"Person\").\n",
    "\tproperty(id,\"26\").\n",
    "    property(\"name\",\"Johanna Cortés Nieto\").\n",
    "\n",
    "addV(\"Person\").\n",
    "\tproperty(id,\"27\").\n",
    "    property(\"name\",\"Juan David Ubajoa Osso\").\n",
    "\n",
    "addV(\"Person\").\n",
    "\tproperty(id,\"28\").\n",
    "    property(\"name\",\"Diana Rodríguez Franco\").\n",
    "\n",
    "addV(\"Person\").\n",
    "\tproperty(id,\"29\").\n",
    "    property(\"name\",\"Everaldo Lamprea\").\n",
    "\n",
    "addV(\"Person\").\n",
    "\tproperty(id,\"30\").\n",
    "    property(\"name\",\"Cesar Rodríguez\").\n",
    "\n",
    "addV(\"Person\").\n",
    "\tproperty(id,\"31\").\n",
    "    property(\"name\",\"Vanessa Daza\").\n",
    "\n",
    "addV(\"Person\").\n",
    "\tproperty(id,\"32\").\n",
    "    property(\"name\",\"Camila Bustos\").\n",
    "\n",
    "addV(\"Person\").\n",
    "\tproperty(id,\"33\").\n",
    "    property(\"name\",\"Jesús Medina\").\n",
    "\n",
    "addV(\"Person\").\n",
    "\tproperty(id,\"34\").\n",
    "    property(\"name\",\"Gabriela Eslava\").\n",
    "\n",
    "addV(\"Person\").\n",
    "\tproperty(id,\"35\").\n",
    "    property(\"name\",\"Valentina Rozo\").\n",
    "\n",
    "addV(\"Person\").\n",
    "\tproperty(id,\"36\").\n",
    "    property(\"name\",\"Diana Lozano\").\n",
    "\n",
    "addV(\"Person\").\n",
    "\tproperty(id,\"37\").\n",
    "    property(\"name\",\"Erika Cuida\").\n",
    "\n",
    "addV(\"Person\").\n",
    "\tproperty(id,\"38\").\n",
    "    property(\"name\",\"Angie Ramírez\").\n",
    "\n",
    "addV(\"Person\").\n",
    "\tproperty(id,\"39\").\n",
    "    property(\"name\",\"Daniela Mateus\").\n",
    "\n",
    "addV(\"Person\").\n",
    "\tproperty(id,\"40\").\n",
    "    property(\"name\",\"Juan Francisco Díaz\").\n",
    "\n",
    "addV(\"Person\").\n",
    "\tproperty(id,\"41\").\n",
    "    property(\"name\",\"Eduardo Villamil\").\n",
    "\n",
    "addV(\"Person\").\n",
    "\tproperty(id,\"42\").\n",
    "    property(\"name\",\"Mauricio Madrigal Pérez\").\n",
    "\n",
    "addV(\"Person\").\n",
    "\tproperty(id,\"43\").\n",
    "    property(\"name\",\"Silvia Quintero Torres\").\n",
    "\n",
    "addV(\"Person\").\n",
    "\tproperty(id,\"44\").\n",
    "    property(\"name\",\"Carolina Olarte\").\n",
    "\n",
    "addV(\"Person\").\n",
    "\tproperty(id,\"45\").\n",
    "    property(\"name\",\"Sandra Villardy\").\n",
    "\n",
    "addV(\"Person\").\n",
    "\tproperty(id,\"46\").\n",
    "    property(\"name\",\"Sebastían Rubiano\").\n",
    "\n",
    "addV(\"Person\").\n",
    "\tproperty(id,\"47\").\n",
    "    property(\"name\",\"Paola Santana\").\n",
    "\n",
    "addV(\"Person\").\n",
    "\tproperty(id,\"48\").\n",
    "    property(\"name\",\"Camilo Quintero\").\n",
    "\n",
    "addV(\"Person\").\n",
    "\tproperty(id,\"49\").\n",
    "    property(\"name\",\"Kelsey Jost-Creegan\").\n",
    "\n",
    "addV(\"Person\").\n",
    "\tproperty(id,\"50\").\n",
    "    property(\"name\",\"Natalia Gomez Peña\")"
   ]
  },
  {
   "cell_type": "markdown",
   "id": "316a36ef",
   "metadata": {},
   "source": [
    "#####Edges insertion"
   ]
  },
  {
   "cell_type": "code",
   "execution_count": 4,
   "id": "a9b905ff",
   "metadata": {},
   "outputs": [
    {
     "data": {
      "application/vnd.jupyter.widget-view+json": {
       "model_id": "b8e19d92f2a94869a0b83a8ce48a4652",
       "version_major": 2,
       "version_minor": 0
      },
      "text/plain": [
       "Tab(children=(Output(layout=Layout(max_height='600px', overflow='scroll', width='100%')), Output(layout=Layout…"
      ]
     },
     "metadata": {},
     "output_type": "display_data"
    }
   ],
   "source": [
    "%%gremlin\n",
    "g.addE(\"PERSONA\").from(g.V(\"1\")).to(g.V(\"6\")).\n",
    "    addE(\"PERSONA\").from(g.V(\"1\")).to(g.V(\"10\")).\n",
    "    addE(\"PERSONA\").from(g.V(\"1\")).to(g.V(\"29\")).\n",
    "    addE(\"PERSONA\").from(g.V(\"1\")).to(g.V(\"31\")).\n",
    "    addE(\"PERSONA\").from(g.V(\"1\")).to(g.V(\"32\")).\n",
    "    addE(\"PERSONA\").from(g.V(\"1\")).to(g.V(\"33\")).\n",
    "    addE(\"PERSONA\").from(g.V(\"1\")).to(g.V(\"34\")).\n",
    "    addE(\"PERSONA\").from(g.V(\"1\")).to(g.V(\"35\")).\n",
    "\n",
    "    addE(\"PERSONA\").from(g.V(\"2\")).to(g.V(\"13\")).\n",
    "    addE(\"PERSONA\").from(g.V(\"2\")).to(g.V(\"14\")).\n",
    "    addE(\"PERSONA\").from(g.V(\"2\")).to(g.V(\"22\")).\n",
    "    addE(\"PERSONA\").from(g.V(\"2\")).to(g.V(\"23\")).\n",
    "\n",
    "    addE(\"PERSONA\").from(g.V(\"3\")).to(g.V(\"4\")).\n",
    "    addE(\"PERSONA\").from(g.V(\"3\")).to(g.V(\"5\")).\n",
    "    addE(\"PERSONA\").from(g.V(\"3\")).to(g.V(\"6\")).\n",
    "    addE(\"PERSONA\").from(g.V(\"3\")).to(g.V(\"7\")).\n",
    "    addE(\"PERSONA\").from(g.V(\"3\")).to(g.V(\"8\")).\n",
    "    addE(\"PERSONA\").from(g.V(\"3\")).to(g.V(\"9\")).\n",
    "    addE(\"PERSONA\").from(g.V(\"3\")).to(g.V(\"10\")).\n",
    "    addE(\"PERSONA\").from(g.V(\"3\")).to(g.V(\"11\")).\n",
    "    addE(\"PERSONA\").from(g.V(\"3\")).to(g.V(\"12\")).\n",
    "    addE(\"PERSONA\").from(g.V(\"3\")).to(g.V(\"13\")).\n",
    "\n",
    "    addE(\"PERSONA\").from(g.V(\"4\")).to(g.V(\"3\")).\n",
    "    addE(\"PERSONA\").from(g.V(\"4\")).to(g.V(\"5\")).\n",
    "    addE(\"PERSONA\").from(g.V(\"4\")).to(g.V(\"6\")).\n",
    "    addE(\"PERSONA\").from(g.V(\"4\")).to(g.V(\"7\")).\n",
    "    addE(\"PERSONA\").from(g.V(\"4\")).to(g.V(\"8\")).\n",
    "    addE(\"PERSONA\").from(g.V(\"4\")).to(g.V(\"9\")).\n",
    "    addE(\"PERSONA\").from(g.V(\"4\")).to(g.V(\"10\")).\n",
    "    addE(\"PERSONA\").from(g.V(\"4\")).to(g.V(\"11\")).\n",
    "    addE(\"PERSONA\").from(g.V(\"4\")).to(g.V(\"12\")).\n",
    "    addE(\"PERSONA\").from(g.V(\"4\")).to(g.V(\"13\")).\n",
    "    addE(\"PERSONA\").from(g.V(\"4\")).to(g.V(\"14\")).\n",
    "    \n",
    "    addE(\"PERSONA\").from(g.V(\"5\")).to(g.V(\"3\")).\n",
    "    addE(\"PERSONA\").from(g.V(\"5\")).to(g.V(\"4\")).\n",
    "    addE(\"PERSONA\").from(g.V(\"5\")).to(g.V(\"6\")).\n",
    "    addE(\"PERSONA\").from(g.V(\"5\")).to(g.V(\"7\")).\n",
    "    addE(\"PERSONA\").from(g.V(\"5\")).to(g.V(\"8\")).\n",
    "    addE(\"PERSONA\").from(g.V(\"5\")).to(g.V(\"9\")).\n",
    "    addE(\"PERSONA\").from(g.V(\"5\")).to(g.V(\"10\")).\n",
    "    addE(\"PERSONA\").from(g.V(\"5\")).to(g.V(\"11\")).\n",
    "    addE(\"PERSONA\").from(g.V(\"5\")).to(g.V(\"12\")).\n",
    "    addE(\"PERSONA\").from(g.V(\"5\")).to(g.V(\"13\")).\n",
    "    \n",
    "    addE(\"PERSONA\").from(g.V(\"6\")).to(g.V(\"3\")).\n",
    "    addE(\"PERSONA\").from(g.V(\"6\")).to(g.V(\"4\")).\n",
    "    addE(\"PERSONA\").from(g.V(\"6\")).to(g.V(\"5\")).\n",
    "    addE(\"PERSONA\").from(g.V(\"6\")).to(g.V(\"7\")).\n",
    "    addE(\"PERSONA\").from(g.V(\"6\")).to(g.V(\"8\")).\n",
    "    addE(\"PERSONA\").from(g.V(\"6\")).to(g.V(\"9\")).\n",
    "    addE(\"PERSONA\").from(g.V(\"6\")).to(g.V(\"10\")).\n",
    "    addE(\"PERSONA\").from(g.V(\"6\")).to(g.V(\"11\")).\n",
    "    addE(\"PERSONA\").from(g.V(\"6\")).to(g.V(\"12\")).\n",
    "    addE(\"PERSONA\").from(g.V(\"6\")).to(g.V(\"13\")).\n",
    "    addE(\"PERSONA\").from(g.V(\"6\")).to(g.V(\"14\")).\n",
    "    \n",
    "    addE(\"PERSONA\").from(g.V(\"7\")).to(g.V(\"3\")).\n",
    "    addE(\"PERSONA\").from(g.V(\"7\")).to(g.V(\"4\")).\n",
    "    addE(\"PERSONA\").from(g.V(\"7\")).to(g.V(\"5\")).\n",
    "    addE(\"PERSONA\").from(g.V(\"7\")).to(g.V(\"6\")).\n",
    "    addE(\"PERSONA\").from(g.V(\"7\")).to(g.V(\"8\")).\n",
    "    addE(\"PERSONA\").from(g.V(\"7\")).to(g.V(\"9\")).\n",
    "    addE(\"PERSONA\").from(g.V(\"7\")).to(g.V(\"10\")).\n",
    "    addE(\"PERSONA\").from(g.V(\"7\")).to(g.V(\"11\")).\n",
    "    addE(\"PERSONA\").from(g.V(\"7\")).to(g.V(\"12\")).\n",
    "    addE(\"PERSONA\").from(g.V(\"7\")).to(g.V(\"13\")).\n",
    "    addE(\"PERSONA\").from(g.V(\"7\")).to(g.V(\"14\")).\n",
    "    \n",
    "    addE(\"PERSONA\").from(g.V(\"8\")).to(g.V(\"3\")).\n",
    "    addE(\"PERSONA\").from(g.V(\"8\")).to(g.V(\"4\")).\n",
    "    addE(\"PERSONA\").from(g.V(\"8\")).to(g.V(\"5\")).\n",
    "    addE(\"PERSONA\").from(g.V(\"8\")).to(g.V(\"6\")).\n",
    "    addE(\"PERSONA\").from(g.V(\"8\")).to(g.V(\"7\")).\n",
    "    addE(\"PERSONA\").from(g.V(\"8\")).to(g.V(\"9\")).\n",
    "    addE(\"PERSONA\").from(g.V(\"8\")).to(g.V(\"10\")).\n",
    "    addE(\"PERSONA\").from(g.V(\"8\")).to(g.V(\"11\")).\n",
    "    addE(\"PERSONA\").from(g.V(\"8\")).to(g.V(\"12\")).\n",
    "    addE(\"PERSONA\").from(g.V(\"8\")).to(g.V(\"13\")).\n",
    "    addE(\"PERSONA\").from(g.V(\"8\")).to(g.V(\"14\")).\n",
    "    \n",
    "    addE(\"PERSONA\").from(g.V(\"9\")).to(g.V(\"3\")).\n",
    "    addE(\"PERSONA\").from(g.V(\"9\")).to(g.V(\"4\")).\n",
    "    addE(\"PERSONA\").from(g.V(\"9\")).to(g.V(\"5\")).\n",
    "    addE(\"PERSONA\").from(g.V(\"9\")).to(g.V(\"6\")).\n",
    "    addE(\"PERSONA\").from(g.V(\"9\")).to(g.V(\"7\")).\n",
    "    addE(\"PERSONA\").from(g.V(\"9\")).to(g.V(\"8\")).\n",
    "    addE(\"PERSONA\").from(g.V(\"9\")).to(g.V(\"10\")).\n",
    "    addE(\"PERSONA\").from(g.V(\"9\")).to(g.V(\"11\")).\n",
    "    addE(\"PERSONA\").from(g.V(\"9\")).to(g.V(\"12\")).\n",
    "    addE(\"PERSONA\").from(g.V(\"9\")).to(g.V(\"13\")).\n",
    "    addE(\"PERSONA\").from(g.V(\"9\")).to(g.V(\"14\")).\n",
    "    \n",
    "    addE(\"PERSONA\").from(g.V(\"10\")).to(g.V(\"3\")).\n",
    "    addE(\"PERSONA\").from(g.V(\"10\")).to(g.V(\"4\")).\n",
    "    addE(\"PERSONA\").from(g.V(\"10\")).to(g.V(\"5\")).\n",
    "    addE(\"PERSONA\").from(g.V(\"10\")).to(g.V(\"6\")).\n",
    "    addE(\"PERSONA\").from(g.V(\"10\")).to(g.V(\"7\")).\n",
    "    addE(\"PERSONA\").from(g.V(\"10\")).to(g.V(\"8\")).\n",
    "    addE(\"PERSONA\").from(g.V(\"10\")).to(g.V(\"9\")).\n",
    "    addE(\"PERSONA\").from(g.V(\"10\")).to(g.V(\"11\")).\n",
    "    addE(\"PERSONA\").from(g.V(\"10\")).to(g.V(\"12\")).\n",
    "    addE(\"PERSONA\").from(g.V(\"10\")).to(g.V(\"13\")).\n",
    "    addE(\"PERSONA\").from(g.V(\"10\")).to(g.V(\"14\")).\n",
    "    \n",
    "    addE(\"PERSONA\").from(g.V(\"11\")).to(g.V(\"3\")).\n",
    "    addE(\"PERSONA\").from(g.V(\"11\")).to(g.V(\"4\")).\n",
    "    addE(\"PERSONA\").from(g.V(\"11\")).to(g.V(\"5\")).\n",
    "    addE(\"PERSONA\").from(g.V(\"11\")).to(g.V(\"6\")).\n",
    "    addE(\"PERSONA\").from(g.V(\"11\")).to(g.V(\"7\")).\n",
    "    addE(\"PERSONA\").from(g.V(\"11\")).to(g.V(\"8\")).\n",
    "    addE(\"PERSONA\").from(g.V(\"11\")).to(g.V(\"9\")).\n",
    "    addE(\"PERSONA\").from(g.V(\"11\")).to(g.V(\"10\")).\n",
    "    addE(\"PERSONA\").from(g.V(\"11\")).to(g.V(\"12\")).\n",
    "    addE(\"PERSONA\").from(g.V(\"11\")).to(g.V(\"13\")).\n",
    "    addE(\"PERSONA\").from(g.V(\"11\")).to(g.V(\"14\")).\n",
    "    \n",
    "    addE(\"PERSONA\").from(g.V(\"12\")).to(g.V(\"3\")).\n",
    "    addE(\"PERSONA\").from(g.V(\"12\")).to(g.V(\"4\")).\n",
    "    addE(\"PERSONA\").from(g.V(\"12\")).to(g.V(\"5\")).\n",
    "    addE(\"PERSONA\").from(g.V(\"12\")).to(g.V(\"6\")).\n",
    "    addE(\"PERSONA\").from(g.V(\"12\")).to(g.V(\"7\")).\n",
    "    addE(\"PERSONA\").from(g.V(\"12\")).to(g.V(\"8\")).\n",
    "    addE(\"PERSONA\").from(g.V(\"12\")).to(g.V(\"9\")).\n",
    "    addE(\"PERSONA\").from(g.V(\"12\")).to(g.V(\"10\")).\n",
    "    addE(\"PERSONA\").from(g.V(\"12\")).to(g.V(\"11\")).\n",
    "    addE(\"PERSONA\").from(g.V(\"12\")).to(g.V(\"13\")).\n",
    "    addE(\"PERSONA\").from(g.V(\"12\")).to(g.V(\"14\")).\n",
    "    \n",
    "    addE(\"PERSONA\").from(g.V(\"13\")).to(g.V(\"14\")).\n",
    "    addE(\"PERSONA\").from(g.V(\"13\")).to(g.V(\"19\")).\n",
    "    addE(\"PERSONA\").from(g.V(\"13\")).to(g.V(\"22\")).\n",
    "    addE(\"PERSONA\").from(g.V(\"13\")).to(g.V(\"23\")).\n",
    "    addE(\"PERSONA\").from(g.V(\"13\")).to(g.V(\"24\")).\n",
    "    addE(\"PERSONA\").from(g.V(\"13\")).to(g.V(\"25\")).\n",
    "    addE(\"PERSONA\").from(g.V(\"13\")).to(g.V(\"26\")).\n",
    "    addE(\"PERSONA\").from(g.V(\"13\")).to(g.V(\"45\")).\n",
    "    \n",
    "    addE(\"PERSONA\").from(g.V(\"14\")).to(g.V(\"2\")).\n",
    "    addE(\"PERSONA\").from(g.V(\"14\")).to(g.V(\"3\")).\n",
    "    addE(\"PERSONA\").from(g.V(\"14\")).to(g.V(\"4\")).\n",
    "    addE(\"PERSONA\").from(g.V(\"14\")).to(g.V(\"5\")).\n",
    "    addE(\"PERSONA\").from(g.V(\"14\")).to(g.V(\"6\")).\n",
    "    addE(\"PERSONA\").from(g.V(\"14\")).to(g.V(\"7\")).\n",
    "    addE(\"PERSONA\").from(g.V(\"14\")).to(g.V(\"8\")).\n",
    "    addE(\"PERSONA\").from(g.V(\"14\")).to(g.V(\"9\")).\n",
    "    addE(\"PERSONA\").from(g.V(\"14\")).to(g.V(\"10\")).\n",
    "    addE(\"PERSONA\").from(g.V(\"14\")).to(g.V(\"11\")).\n",
    "    addE(\"PERSONA\").from(g.V(\"14\")).to(g.V(\"12\")).\n",
    "    addE(\"PERSONA\").from(g.V(\"14\")).to(g.V(\"13\")).\n",
    "    addE(\"PERSONA\").from(g.V(\"14\")).to(g.V(\"16\")).\n",
    "    addE(\"PERSONA\").from(g.V(\"14\")).to(g.V(\"22\")).\n",
    "    addE(\"PERSONA\").from(g.V(\"14\")).to(g.V(\"23\")).\n",
    "    \n",
    "    addE(\"PERSONA\").from(g.V(\"15\")).to(g.V(\"10\")).\n",
    "    addE(\"PERSONA\").from(g.V(\"15\")).to(g.V(\"14\")).\n",
    "    addE(\"PERSONA\").from(g.V(\"15\")).to(g.V(\"22\")).\n",
    "    addE(\"PERSONA\").from(g.V(\"15\")).to(g.V(\"23\")).\n",
    "    \n",
    "    addE(\"PERSONA\").from(g.V(\"16\")).to(g.V(\"14\")).\n",
    "    addE(\"PERSONA\").from(g.V(\"16\")).to(g.V(\"15\")).\n",
    "    addE(\"PERSONA\").from(g.V(\"16\")).to(g.V(\"17\")).\n",
    "    addE(\"PERSONA\").from(g.V(\"16\")).to(g.V(\"18\")).\n",
    "    addE(\"PERSONA\").from(g.V(\"16\")).to(g.V(\"19\")).\n",
    "    addE(\"PERSONA\").from(g.V(\"16\")).to(g.V(\"20\")).\n",
    "    addE(\"PERSONA\").from(g.V(\"16\")).to(g.V(\"21\")).\n",
    "    addE(\"PERSONA\").from(g.V(\"16\")).to(g.V(\"22\")).\n",
    "    addE(\"PERSONA\").from(g.V(\"16\")).to(g.V(\"23\")).\n",
    "\n",
    "    addE(\"PERSONA\").from(g.V(\"17\")).to(g.V(\"14\")).\n",
    "    addE(\"PERSONA\").from(g.V(\"17\")).to(g.V(\"15\")).\n",
    "    addE(\"PERSONA\").from(g.V(\"17\")).to(g.V(\"16\")).\n",
    "    addE(\"PERSONA\").from(g.V(\"17\")).to(g.V(\"18\")).\n",
    "    addE(\"PERSONA\").from(g.V(\"17\")).to(g.V(\"19\")).\n",
    "    addE(\"PERSONA\").from(g.V(\"17\")).to(g.V(\"20\")).\n",
    "    addE(\"PERSONA\").from(g.V(\"17\")).to(g.V(\"21\")).\n",
    "    addE(\"PERSONA\").from(g.V(\"17\")).to(g.V(\"22\")).\n",
    "    addE(\"PERSONA\").from(g.V(\"17\")).to(g.V(\"23\"))"
   ]
  },
  {
   "cell_type": "markdown",
   "id": "c4a24a89",
   "metadata": {},
   "source": [
    "#####Quick validation to check for correct operation"
   ]
  },
  {
   "cell_type": "code",
   "execution_count": 5,
   "id": "e0d82756",
   "metadata": {},
   "outputs": [
    {
     "data": {
      "application/vnd.jupyter.widget-view+json": {
       "model_id": "754bae5f32c54aa7934366d3d8812a47",
       "version_major": 2,
       "version_minor": 0
      },
      "text/plain": [
       "Tab(children=(Output(layout=Layout(max_height='600px', overflow='scroll', width='100%')), Output(layout=Layout…"
      ]
     },
     "metadata": {},
     "output_type": "display_data"
    }
   ],
   "source": [
    "%%gremlin\n",
    "//Check correct creation number of vertices\n",
    "//Must be 50\n",
    "g.V().count()"
   ]
  },
  {
   "cell_type": "code",
   "execution_count": 6,
   "id": "122b2795",
   "metadata": {},
   "outputs": [
    {
     "data": {
      "application/vnd.jupyter.widget-view+json": {
       "model_id": "908e75d4dfe0413cb6e5cf7e8a5a24c3",
       "version_major": 2,
       "version_minor": 0
      },
      "text/plain": [
       "Tab(children=(Output(layout=Layout(max_height='600px', overflow='scroll', width='100%')), Output(layout=Layout…"
      ]
     },
     "metadata": {},
     "output_type": "display_data"
    }
   ],
   "source": [
    "%%gremlin\n",
    "//Check correct creation number of edges\n",
    "//Must be 165\n",
    "g.E().count()"
   ]
  },
  {
   "cell_type": "code",
   "execution_count": 7,
   "id": "7c47bcc6",
   "metadata": {},
   "outputs": [
    {
     "data": {
      "application/vnd.jupyter.widget-view+json": {
       "model_id": "2039fd07b59c4f26b3825e5a6a56eb0c",
       "version_major": 2,
       "version_minor": 0
      },
      "text/plain": [
       "Tab(children=(Output(layout=Layout(max_height='600px', overflow='scroll', width='100%')), Output(layout=Layout…"
      ]
     },
     "metadata": {},
     "output_type": "display_data"
    }
   ],
   "source": [
    "%%gremlin\n",
    "//Check creation of a random vertex and if it has edge\n",
    "//Must be True\n",
    "g.V().has(id, \"17\").has(\"name\", \"Noency Mosquera Martínez\").hasNext()"
   ]
  },
  {
   "cell_type": "markdown",
   "id": "6c972a78",
   "metadata": {},
   "source": [
    "####Graph"
   ]
  },
  {
   "cell_type": "code",
   "execution_count": 16,
   "id": "84cf8d3d",
   "metadata": {},
   "outputs": [
    {
     "data": {
      "application/vnd.jupyter.widget-view+json": {
       "model_id": "e8c7e890fe8243e485ca2575b8e79cfd",
       "version_major": 2,
       "version_minor": 0
      },
      "text/plain": [
       "Tab(children=(Output(layout=Layout(max_height='600px', overflow='scroll', width='100%')), Force(network=<graph…"
      ]
     },
     "metadata": {},
     "output_type": "display_data"
    }
   ],
   "source": [
    "%%gremlin -p v,oute,inv\n",
    "\n",
    "g.V().hasLabel(\"Person\").outE().inV().\n",
    "        path().by(\"name\").by(label)\n",
    "//Show -> Relation.Vertix.Walk summary.Format ouput"
   ]
  }
 ],
 "metadata": {
  "kernelspec": {
   "display_name": "Python 3",
   "language": "python",
   "name": "python3"
  },
  "language_info": {
   "codemirror_mode": {
    "name": "ipython",
    "version": 3
   },
   "file_extension": ".py",
   "mimetype": "text/x-python",
   "name": "python",
   "nbconvert_exporter": "python",
   "pygments_lexer": "ipython3",
   "version": "3.6.13"
  }
 },
 "nbformat": 4,
 "nbformat_minor": 5
}
